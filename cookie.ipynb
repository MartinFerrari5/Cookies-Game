{
 "cells": [
  {
   "cell_type": "markdown",
   "metadata": {},
   "source": [
    "# Import the libraries"
   ]
  },
  {
   "cell_type": "code",
   "execution_count": 1,
   "metadata": {},
   "outputs": [],
   "source": [
    "from selenium import webdriver\n",
    "from selenium.webdriver.common.by import By\n",
    "from selenium.webdriver.support.ui import WebDriverWait\n",
    "from selenium.webdriver.support import expected_conditions as EC\n",
    "from selenium.webdriver.chrome.service import Service"
   ]
  },
  {
   "cell_type": "markdown",
   "metadata": {},
   "source": [
    "### Execute the <u><i>Chrome Driver</i></u>"
   ]
  },
  {
   "cell_type": "code",
   "execution_count": 8,
   "metadata": {},
   "outputs": [],
   "source": [
    "service  = Service(execuable_path = './bot/chromedriver.exe')\n",
    "driver = webdriver.Chrome(service=service)"
   ]
  },
  {
   "cell_type": "markdown",
   "metadata": {},
   "source": [
    "#### After we opened the game, we should automaticaly click on the language so we can start playing"
   ]
  },
  {
   "cell_type": "markdown",
   "metadata": {},
   "source": [
    "<img src=\"./img/language.png\">"
   ]
  },
  {
   "cell_type": "markdown",
   "metadata": {},
   "source": [
    "#### We need to know the exact *id* from the element in the **HTML**\n",
    "1. Right Click and inspect it\n",
    "\n",
    "<img src=\"./img/inspect.png\">"
   ]
  },
  {
   "cell_type": "markdown",
   "metadata": {},
   "source": [
    "2. Look for the element in the **HTML** code\n",
    "\n",
    "<img src=\"./img/ID.png\">"
   ]
  },
  {
   "cell_type": "markdown",
   "metadata": {},
   "source": [
    "3. Copy the *id* of your preferred language. I will select **langSelect-EN**"
   ]
  },
  {
   "cell_type": "code",
   "execution_count": 9,
   "metadata": {},
   "outputs": [],
   "source": [
    "#Click the language\n",
    "driver.get(r'https://orteil.dashnet.org/cookieclicker/#:~:text=Cookie%20Clicker%20is%20mainly%20supported%20by')\n",
    "WebDriverWait(driver,10).until(\n",
    "    EC.presence_of_element_located(\n",
    "        (By.ID,'langSelect-EN')\n",
    "    )\n",
    ") # WebDriverWait() -- waits 10 seconds to find the id\n",
    "lan = driver.find_element(By.ID,'langSelect-EN')\n",
    "lan.click()"
   ]
  },
  {
   "cell_type": "code",
   "execution_count": null,
   "metadata": {},
   "outputs": [],
   "source": [
    "# Select the the cookie\n",
    "# cookie_id = 'bigCookie'\n",
    "# cookie_button = driver.find_element(By.ID, cookie_id)\n",
    "\n",
    "# cookie_button.click()\n",
    "WebDriverWait(driver,10).until(\n",
    "    EC.presence_of_element_located(\n",
    "        (By.ID,'cookies')\n",
    "    )\n",
    ")\n",
    "number_id = 'cookies'\n",
    "number_of_cookies = driver.find_element(By.ID, number_id).text.split(' ')[0]\n",
    "print(number_of_cookies)\n"
   ]
  },
  {
   "cell_type": "code",
   "execution_count": null,
   "metadata": {},
   "outputs": [],
   "source": [
    "cookie_id = 'bigCookie'\n",
    "WebDriverWait(driver,10).until(\n",
    "    EC.presence_of_element_located(\n",
    "        (By.ID,cookie_id)\n",
    "    )\n",
    ")\n",
    "# Select the the cookie\n",
    "\n",
    "cookie_button = driver.find_element(By.ID, cookie_id)\n",
    "\n",
    "while True:\n",
    "    cookie_button.click()\n",
    "    number_of_cookies = driver.find_element(By.ID, number_id).text.split(' ')[0].replace(',','')\n",
    "    number_of_cookies = int(number_of_cookies)\n",
    "\n",
    "    upgrades_id = 'upgrades'\n",
    "    upgrade_div = driver.find_elements(By.ID, upgrades_id)\n",
    "\n",
    "    for i in range(5):\n",
    "        tool_id = 'product' + str(i)\n",
    "        tool = driver.find_element(By.ID, tool_id)\n",
    "\n",
    "        tool_price_id = \"productPrice\" + str(i)\n",
    "        tool_price = driver.find_element(By.ID, tool_price_id).text.replace(',','')\n",
    "       \n",
    "        if  not tool_price.isdigit():\n",
    "            continue\n",
    "        \n",
    "        if number_of_cookies >= int(tool_price):\n",
    "            tool.click()\n",
    "    \n",
    "    for upgrade in upgrade_div:\n",
    "        upgrade.click()\n",
    "    \n"
   ]
  },
  {
   "cell_type": "code",
   "execution_count": 12,
   "metadata": {},
   "outputs": [],
   "source": [
    "driver.quit()"
   ]
  }
 ],
 "metadata": {
  "kernelspec": {
   "display_name": "Python 3",
   "language": "python",
   "name": "python3"
  },
  "language_info": {
   "codemirror_mode": {
    "name": "ipython",
    "version": 3
   },
   "file_extension": ".py",
   "mimetype": "text/x-python",
   "name": "python",
   "nbconvert_exporter": "python",
   "pygments_lexer": "ipython3",
   "version": "3.12.6"
  }
 },
 "nbformat": 4,
 "nbformat_minor": 2
}
